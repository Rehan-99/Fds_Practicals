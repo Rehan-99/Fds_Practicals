{
 "cells": [
  {
   "cell_type": "code",
   "execution_count": 4,
   "id": "d6c85ce5",
   "metadata": {},
   "outputs": [],
   "source": [
    "#for inline plots\n",
    "%matplotlib inline\n",
    "import matplotlib.pyplot as plt\n",
    "#for latex equations\n",
    "from IPython.display import Math,Latex\n",
    "#from displaying images\n",
    "from IPython.core.display import Image\n",
    "import numpy as np"
   ]
  },
  {
   "cell_type": "code",
   "execution_count": 5,
   "id": "2ec217e0",
   "metadata": {},
   "outputs": [],
   "source": [
    "import seaborn as sns\n",
    "#setting for seaborn plotting style\n",
    "sns.set(color_codes=True)\n",
    "#setting for seaborn plotting sizes\n",
    "sns.set(rc={'figure.figsize':(5,5)})"
   ]
  },
  {
   "cell_type": "markdown",
   "id": "b6d69983",
   "metadata": {},
   "source": [
    "# Uniform Distribution\n"
   ]
  },
  {
   "cell_type": "code",
   "execution_count": 11,
   "id": "9183a51b",
   "metadata": {},
   "outputs": [
    {
     "data": {
      "text/plain": [
       "<matplotlib.collections.LineCollection at 0x19895e6ec40>"
      ]
     },
     "execution_count": 11,
     "metadata": {},
     "output_type": "execute_result"
    },
    {
     "data": {
      "image/png": "[encoded data removed]",
      "text/plain": [
       "<Figure size 360x360 with 1 Axes>"
      ]
     },
     "metadata": {},
     "output_type": "display_data"
    }
   ],
   "source": [
    "from scipy.stats import randint\n",
    "fig,ax= plt.subplots(1,1)\n",
    "#calculate a few first moments:\n",
    "low,high =7,31\n",
    "mean,var,skew,kurt =randint.stats(low,high,moments='mvsk')\n",
    "\n",
    "x =np.arange(randint.ppf(0.01,low,high),\n",
    "            randint.ppf(0.99,low,high))\n",
    "ax.plot(x,randint.pmf(x,low,high),'bo',ms=5,label='randint pmf')\n",
    "ax.vlines(x,0,randint.pmf(x,low,high),colors='b',lw=5,alpha=0.8)"
   ]
  },
  {
   "cell_type": "code",
   "execution_count": null,
   "id": "93666c69",
   "metadata": {},
   "outputs": [],
   "source": [
    "x"
   ]
  },
  {
   "cell_type": "code",
   "execution_count": 12,
   "id": "67fe4104",
   "metadata": {},
   "outputs": [
    {
     "data": {
      "text/plain": [
       "array([0.04166667, 0.08333333, 0.125     , 0.16666667, 0.20833333,\n",
       "       0.25      , 0.29166667, 0.33333333, 0.375     , 0.41666667,\n",
       "       0.45833333, 0.5       , 0.54166667, 0.58333333, 0.625     ,\n",
       "       0.66666667, 0.70833333, 0.75      , 0.79166667, 0.83333333,\n",
       "       0.875     , 0.91666667, 0.95833333])"
      ]
     },
     "execution_count": 12,
     "metadata": {},
     "output_type": "execute_result"
    }
   ],
   "source": [
    "prob =randint.cdf(x,low,high)\n",
    "prob"
   ]
  },
  {
   "cell_type": "markdown",
   "id": "97898b6f",
   "metadata": {},
   "source": [
    "Bernoulli distribution"
   ]
  },
  {
   "cell_type": "code",
   "execution_count": 22,
   "id": "017175a0",
   "metadata": {},
   "outputs": [],
   "source": [
    "from scipy.stats import bernoulli\n",
    "data_bern = bernoulli.rvs(size= 10000,p=0.6)"
   ]
  },
  {
   "cell_type": "code",
   "execution_count": 21,
   "id": "2a5aad86",
   "metadata": {},
   "outputs": [
    {
     "data": {
      "text/plain": [
       "[Text(0.5, 0, 'bernoulli distribution'), Text(0, 0.5, 'Frequency')]"
      ]
     },
     "execution_count": 21,
     "metadata": {},
     "output_type": "execute_result"
    },
    {
     "data": {
      "image/png": "[encoded data removed]",
      "text/plain": [
       "<Figure size 360x360 with 1 Axes>"
      ]
     },
     "metadata": {},
     "output_type": "display_data"
    }
   ],
   "source": [
    "ax=sns.distplot(data_bern,kde=False,\n",
    "              color='skyblue',\n",
    "              hist_kws={'linewidth':15,'alpha':1})\n",
    "ax.set(xlabel='bernoulli distribution',ylabel='Frequency')"
   ]
  },
  {
   "cell_type": "markdown",
   "id": "34dd2345",
   "metadata": {},
   "source": [
    "# Binomial Distribution"
   ]
  },
  {
   "cell_type": "code",
   "execution_count": 17,
   "id": "9314c4e8",
   "metadata": {},
   "outputs": [],
   "source": [
    "from scipy.stats import binom\n",
    "data_binom = binom.rvs(n=10,p=0.8,size=10000)"
   ]
  },
  {
   "cell_type": "code",
   "execution_count": 23,
   "id": "ff1ad1dc",
   "metadata": {},
   "outputs": [
    {
     "data": {
      "text/plain": [
       "[Text(0.5, 0, 'Binomial distribution'), Text(0, 0.5, 'Frequency')]"
      ]
     },
     "execution_count": 23,
     "metadata": {},
     "output_type": "execute_result"
    },
    {
     "data": {
      "image/png": "[encoded data removed]",
      "text/plain": [
       "<Figure size 360x360 with 1 Axes>"
      ]
     },
     "metadata": {},
     "output_type": "display_data"
    }
   ],
   "source": [
    "ax=sns.distplot(data_binom,kde=False,\n",
    "              color='skyblue',\n",
    "              hist_kws={'linewidth':10,'alpha':1})\n",
    "ax.set(xlabel='Binomial distribution',ylabel='Frequency')"
   ]
  },
  {
   "cell_type": "markdown",
   "id": "d7d8852f",
   "metadata": {},
   "source": [
    "# Poisson Distribution"
   ]
  },
  {
   "cell_type": "code",
   "execution_count": 30,
   "id": "cd25e7eb",
   "metadata": {},
   "outputs": [],
   "source": [
    "from scipy.stats import poisson\n",
    "data_poisson = poisson.rvs(mu=3,size=10000)"
   ]
  },
  {
   "cell_type": "code",
   "execution_count": 31,
   "id": "ac7e51d4",
   "metadata": {},
   "outputs": [
    {
     "data": {
      "text/plain": [
       "[Text(0.5, 0, 'Poisson distribution'), Text(0, 0.5, 'Frequency')]"
      ]
     },
     "execution_count": 31,
     "metadata": {},
     "output_type": "execute_result"
    },
    {
     "data": {
      "image/png": "[encoded data removed]",
      "text/plain": [
       "<Figure size 360x360 with 1 Axes>"
      ]
     },
     "metadata": {},
     "output_type": "display_data"
    }
   ],
   "source": [
    "ax=sns.distplot(data_poisson,kde=False,bins=30,\n",
    "              color='blue',\n",
    "              hist_kws={'linewidth':15,'alpha':1})\n",
    "ax.set(xlabel='Poisson distribution',ylabel='Frequency')"
   ]
  },
  {
   "cell_type": "code",
   "execution_count": null,
   "id": "72101d02",
   "metadata": {},
   "outputs": [],
   "source": []
  }
 ],
 "metadata": {
  "kernelspec": {
   "display_name": "Python 3 (ipykernel)",
   "language": "python",
   "name": "python3"
  },
  "language_info": {
   "codemirror_mode": {
    "name": "ipython",
    "version": 3
   },
   "file_extension": ".py",
   "mimetype": "text/x-python",
   "name": "python",
   "nbconvert_exporter": "python",
   "pygments_lexer": "ipython3",
   "version": "3.8.8"
  }
 },
 "nbformat": 4,
 "nbformat_minor": 5
}
