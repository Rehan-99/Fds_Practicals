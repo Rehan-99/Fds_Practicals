{
 "cells": [
  {
   "cell_type": "code",
   "execution_count": 9,
   "id": "84688da7",
   "metadata": {},
   "outputs": [
    {
     "name": "stdout",
     "output_type": "stream",
     "text": [
      "0.339%\n"
     ]
    }
   ],
   "source": [
    "def bayes_law(p_a,p_b_given_a,p_b_given_not_a):\n",
    "    #calculate p(not A)\n",
    "    not_a = 1 - p_a\n",
    "    \n",
    "    #calculate P(b)\n",
    "    p_b = p_b_given_a * p_a + p_b_given_not_a * not_a\n",
    "    \n",
    "    #Calculate P(A/B)\n",
    "    p_a_given_b = (p_b_given_a * p_a) / p_b\n",
    "    \n",
    "    return p_a_given_b\n",
    "result = bayes_law(0.0002,0.85,0.05)\n",
    "print('%.3f%%' % (result*100))"
   ]
  },
  {
   "cell_type": "code",
   "execution_count": 2,
   "id": "e115ee3c",
   "metadata": {},
   "outputs": [
    {
     "name": "stdout",
     "output_type": "stream",
     "text": [
      "0.48%\n"
     ]
    }
   ],
   "source": [
    "def spam_filtering(p_spam ,p_spam_given_congo,p_notspam_given_congo ):\n",
    "    #calculate p_notspam\n",
    "    p_notspam = 1- p_spam\n",
    "    p_congo_given_spam = (p_spam_given_congo * p_spam) / ((p_spam_given_congo *p_spam)+(p_notspam_given_congo *p_notspam))\n",
    "    return p_congo_given_spam\n",
    "result = spam_filtering(0.3,0.75,0.35)\n",
    "print('%.2f%%' %(result))"
   ]
  },
  {
   "cell_type": "code",
   "execution_count": null,
   "id": "77c221fb",
   "metadata": {},
   "outputs": [],
   "source": []
  }
 ],
 "metadata": {
  "kernelspec": {
   "display_name": "Python 3 (ipykernel)",
   "language": "python",
   "name": "python3"
  },
  "language_info": {
   "codemirror_mode": {
    "name": "ipython",
    "version": 3
   },
   "file_extension": ".py",
   "mimetype": "text/x-python",
   "name": "python",
   "nbconvert_exporter": "python",
   "pygments_lexer": "ipython3",
   "version": "3.8.8"
  }
 },
 "nbformat": 4,
 "nbformat_minor": 5
}
