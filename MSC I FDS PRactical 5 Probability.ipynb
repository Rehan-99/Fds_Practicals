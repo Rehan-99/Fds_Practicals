{
 "cells": [
  {
   "cell_type": "markdown",
   "id": "9da30d29",
   "metadata": {},
   "source": [
    "# Probability"
   ]
  },
  {
   "cell_type": "code",
   "execution_count": 43,
   "id": "356bf8b0",
   "metadata": {},
   "outputs": [
    {
     "name": "stdout",
     "output_type": "stream",
     "text": [
      "Probability of getting 3 is : 0.16666666666666666\n"
     ]
    }
   ],
   "source": [
    "#probability ogf getting 3 when a 3 die is rolled\n",
    "ns= 6 #n(S) = {1,2,3,4,5,6}\n",
    "na=1 #n(A) ={3}\n",
    "pa=na/ns #P(A)\n",
    "print('Probability of getting 3 is :',pa)"
   ]
  },
  {
   "cell_type": "code",
   "execution_count": 44,
   "id": "502a5edf",
   "metadata": {},
   "outputs": [
    {
     "name": "stdout",
     "output_type": "stream",
     "text": [
      "Probability of getting One head is : 0.875\n"
     ]
    }
   ],
   "source": [
    "#Probability of atleast getting one head when a coin is tossed thrice\n",
    "ns= 8 #n(S) = {HHH,HHT,HTH,THH,TTH,THT,HTT,TTT}\n",
    "na=7 #n(A) ={HHH,HHT,HTH,THH,TTH,THT,HTT}\n",
    "pa=na/ns #P(A)\n",
    "print('Probability of getting One head is :',pa)"
   ]
  },
  {
   "cell_type": "code",
   "execution_count": 45,
   "id": "58dba853",
   "metadata": {},
   "outputs": [
    {
     "name": "stdout",
     "output_type": "stream",
     "text": [
      "Probability of getting not blue jellybean  is : 0.7\n"
     ]
    }
   ],
   "source": [
    "#A glass jar contains 5red, 3 blue,2green jelly beans.if a jelly bean is chosen at random \n",
    "#from the jar,what is probability that is not blue?\n",
    "\n",
    "ns= 10 #n(S) = {1,2,3,4,5,6}\n",
    "na=7 #n(A) ={3}\n",
    "pa=na/ns #P(A)\n",
    "print('Probability of getting not blue jellybean  is :',pa)"
   ]
  },
  {
   "cell_type": "markdown",
   "id": "89f47c4f",
   "metadata": {},
   "source": [
    "# Independent and Dependent event"
   ]
  },
  {
   "cell_type": "code",
   "execution_count": 46,
   "id": "4cf4083b",
   "metadata": {},
   "outputs": [
    {
     "name": "stdout",
     "output_type": "stream",
     "text": [
      "probability that they will both be alive after 20years is : 0.35\n"
     ]
    }
   ],
   "source": [
    "# if the probability that person A will be alive in 20years is 0.7 and the probability that \n",
    "#person B will be alive is 20 years is 0.5, what is probability that they will both be alive in \n",
    "#20years\n",
    "#these are in dependent events,so\n",
    "P=0.7*0.5\n",
    "print('probability that they will both be alive after 20years is :',P)"
   ]
  },
  {
   "cell_type": "code",
   "execution_count": 47,
   "id": "fed0ab3b",
   "metadata": {},
   "outputs": [],
   "source": [
    "def event_probability(n,s):\n",
    "    return n/s"
   ]
  },
  {
   "cell_type": "code",
   "execution_count": 48,
   "id": "16a95860",
   "metadata": {},
   "outputs": [
    {
     "name": "stdout",
     "output_type": "stream",
     "text": [
      "probability of getting a 4 or 5 on the first toss and a 1,2 or3 in second toss is : 0.16666666666666666\n"
     ]
    }
   ],
   "source": [
    "#A fair die is tossed twice.find the probability of getting a 4 or 5 on the first toss and a \n",
    "# 1,2 or3 in second toss\n",
    "pa= event_probability(2,6) #probability of getting a 4 or 5\n",
    "pb = event_probability(3,6) #probability of getting a 1,2 or 3\n",
    "P = pa*pb\n",
    "print('probability of getting a 4 or 5 on the first toss and a 1,2 or3 in second toss is :', P)"
   ]
  },
  {
   "cell_type": "code",
   "execution_count": 49,
   "id": "d73bfee9",
   "metadata": {},
   "outputs": [
    {
     "name": "stdout",
     "output_type": "stream",
     "text": [
      "the probaility of obtaining white black ,green marble is :  0.041666666666666664\n"
     ]
    }
   ],
   "source": [
    "#A bag contains 35 white marbles and ,3 black and 2 green marbles . In each draw,marable is \n",
    "#drawn from the bag and not replaced . In three draws , find the probaility of obtaining white \n",
    "#black ,green in that order\n",
    "pw = event_probability(5,10)\n",
    "pb = event_probability(3,9)\n",
    "pg = event_probability(2,8)\n",
    "print('the probaility of obtaining white black ,green marble is : ', (pw*pb*pg))"
   ]
  },
  {
   "cell_type": "code",
   "execution_count": 50,
   "id": "ea6200cb",
   "metadata": {},
   "outputs": [
    {
     "name": "stdout",
     "output_type": "stream",
     "text": [
      "Probability is : 0.5\n"
     ]
    }
   ],
   "source": [
    "#Sample Space \n",
    "cards= 52\n",
    "#Calculate  the probabilty of getting a heart or a club\n",
    "hearts = 13\n",
    "clubs =13\n",
    "heart_or_club =event_probability(hearts,cards) + event_probability(clubs,cards)\n",
    "print('Probability is :', heart_or_club\n",
    "     )"
   ]
  },
  {
   "cell_type": "code",
   "execution_count": 51,
   "id": "161970bc",
   "metadata": {},
   "outputs": [
    {
     "name": "stdout",
     "output_type": "stream",
     "text": [
      "Probability is : 0.23076923076923078\n"
     ]
    }
   ],
   "source": [
    "#Calculate the probability of drawing an ace,king or a queen\n",
    "aces=4\n",
    "kings=4\n",
    "queens=4\n",
    "a_k_q = event_probability(aces,cards) + event_probability(kings,cards)+event_probability(queens,cards\n",
    "                                                                                      )\n",
    "print('Probability is :', a_k_q)"
   ]
  },
  {
   "cell_type": "code",
   "execution_count": 52,
   "id": "771af805",
   "metadata": {},
   "outputs": [
    {
     "name": "stdout",
     "output_type": "stream",
     "text": [
      "probability is : 0.3\n"
     ]
    }
   ],
   "source": [
    "#Calculate the probability of drawing a heart or an ace\n",
    "ace_of_hearts=1\n",
    "heart_or_ace = (event_probability(hearts,cards) +event_probability(aces,cards)) - event_probability(ace_of_hearts,cards)\n",
    "print('probability is :',round(heart_or_ace,1))"
   ]
  },
  {
   "cell_type": "code",
   "execution_count": 53,
   "id": "2b344e65",
   "metadata": {},
   "outputs": [
    {
     "name": "stdout",
     "output_type": "stream",
     "text": [
      "0.6\n"
     ]
    }
   ],
   "source": [
    "#probability of drawing red cards or a face  cards\n",
    "red_cards =26\n",
    "face_cards =12\n",
    "red_face_cards =6 \n",
    "redcard_or_facecards = event_probability(red_cards,cards) + event_probability(face_cards,cards) - event_probability(red_face_cards,cards)\n",
    "print(round(redcard_or_facecards,1))"
   ]
  },
  {
   "cell_type": "markdown",
   "id": "f5e9fe4b",
   "metadata": {},
   "source": [
    "# complementary Events"
   ]
  },
  {
   "cell_type": "code",
   "execution_count": 54,
   "id": "8611fd12",
   "metadata": {},
   "outputs": [
    {
     "name": "stdout",
     "output_type": "stream",
     "text": [
      "Probability of not getting 5 is : 0.8333333333333334\n"
     ]
    }
   ],
   "source": [
    "# probability of not getting  5 when a fair die is rolled\n",
    "ns= 6 #n(S) = {1,2,3,4,5,6}\n",
    "na=1 #n(A) ={5}\n",
    "pa=na/ns #P(A)\n",
    "print('Probability of not getting 5 is :',1-pa)"
   ]
  },
  {
   "cell_type": "markdown",
   "id": "e3a33e86",
   "metadata": {},
   "source": [
    "# Conditional Probability\n"
   ]
  },
  {
   "cell_type": "code",
   "execution_count": 55,
   "id": "f1ae73a7",
   "metadata": {},
   "outputs": [
    {
     "data": {
      "text/html": [
       "<div>\n",
       "<style scoped>\n",
       "    .dataframe tbody tr th:only-of-type {\n",
       "        vertical-align: middle;\n",
       "    }\n",
       "\n",
       "    .dataframe tbody tr th {\n",
       "        vertical-align: top;\n",
       "    }\n",
       "\n",
       "    .dataframe thead th {\n",
       "        text-align: right;\n",
       "    }\n",
       "</style>\n",
       "<table border=\"1\" class=\"dataframe\">\n",
       "  <thead>\n",
       "    <tr style=\"text-align: right;\">\n",
       "      <th></th>\n",
       "      <th>school</th>\n",
       "      <th>sex</th>\n",
       "      <th>age</th>\n",
       "      <th>address</th>\n",
       "      <th>famsize</th>\n",
       "      <th>Pstatus</th>\n",
       "      <th>Medu</th>\n",
       "      <th>Fedu</th>\n",
       "      <th>Mjob</th>\n",
       "      <th>Fjob</th>\n",
       "      <th>...</th>\n",
       "      <th>famrel</th>\n",
       "      <th>freetime</th>\n",
       "      <th>goout</th>\n",
       "      <th>Dalc</th>\n",
       "      <th>Walc</th>\n",
       "      <th>health</th>\n",
       "      <th>absences</th>\n",
       "      <th>G1</th>\n",
       "      <th>G2</th>\n",
       "      <th>G3</th>\n",
       "    </tr>\n",
       "  </thead>\n",
       "  <tbody>\n",
       "    <tr>\n",
       "      <th>0</th>\n",
       "      <td>GP</td>\n",
       "      <td>F</td>\n",
       "      <td>18</td>\n",
       "      <td>U</td>\n",
       "      <td>GT3</td>\n",
       "      <td>A</td>\n",
       "      <td>4</td>\n",
       "      <td>4</td>\n",
       "      <td>at_home</td>\n",
       "      <td>teacher</td>\n",
       "      <td>...</td>\n",
       "      <td>4</td>\n",
       "      <td>3</td>\n",
       "      <td>4</td>\n",
       "      <td>1</td>\n",
       "      <td>1</td>\n",
       "      <td>3</td>\n",
       "      <td>6</td>\n",
       "      <td>5</td>\n",
       "      <td>6</td>\n",
       "      <td>6</td>\n",
       "    </tr>\n",
       "    <tr>\n",
       "      <th>1</th>\n",
       "      <td>GP</td>\n",
       "      <td>F</td>\n",
       "      <td>17</td>\n",
       "      <td>U</td>\n",
       "      <td>GT3</td>\n",
       "      <td>T</td>\n",
       "      <td>1</td>\n",
       "      <td>1</td>\n",
       "      <td>at_home</td>\n",
       "      <td>other</td>\n",
       "      <td>...</td>\n",
       "      <td>5</td>\n",
       "      <td>3</td>\n",
       "      <td>3</td>\n",
       "      <td>1</td>\n",
       "      <td>1</td>\n",
       "      <td>3</td>\n",
       "      <td>4</td>\n",
       "      <td>5</td>\n",
       "      <td>5</td>\n",
       "      <td>6</td>\n",
       "    </tr>\n",
       "    <tr>\n",
       "      <th>2</th>\n",
       "      <td>GP</td>\n",
       "      <td>F</td>\n",
       "      <td>15</td>\n",
       "      <td>U</td>\n",
       "      <td>LE3</td>\n",
       "      <td>T</td>\n",
       "      <td>1</td>\n",
       "      <td>1</td>\n",
       "      <td>at_home</td>\n",
       "      <td>other</td>\n",
       "      <td>...</td>\n",
       "      <td>4</td>\n",
       "      <td>3</td>\n",
       "      <td>2</td>\n",
       "      <td>2</td>\n",
       "      <td>3</td>\n",
       "      <td>3</td>\n",
       "      <td>10</td>\n",
       "      <td>7</td>\n",
       "      <td>8</td>\n",
       "      <td>10</td>\n",
       "    </tr>\n",
       "  </tbody>\n",
       "</table>\n",
       "<p>3 rows × 33 columns</p>\n",
       "</div>"
      ],
      "text/plain": [
       "  school sex  age address famsize Pstatus  Medu  Fedu     Mjob     Fjob  ...  \\\n",
       "0     GP   F   18       U     GT3       A     4     4  at_home  teacher  ...   \n",
       "1     GP   F   17       U     GT3       T     1     1  at_home    other  ...   \n",
       "2     GP   F   15       U     LE3       T     1     1  at_home    other  ...   \n",
       "\n",
       "  famrel freetime  goout  Dalc  Walc health absences G1 G2  G3  \n",
       "0      4        3      4     1     1      3        6  5  6   6  \n",
       "1      5        3      3     1     1      3        4  5  5   6  \n",
       "2      4        3      2     2     3      3       10  7  8  10  \n",
       "\n",
       "[3 rows x 33 columns]"
      ]
     },
     "execution_count": 55,
     "metadata": {},
     "output_type": "execute_result"
    }
   ],
   "source": [
    "import pandas as pd\n",
    "import numpy as np\n",
    "df =pd.read_csv('student-mat.csv')\n",
    "df.head(3)"
   ]
  },
  {
   "cell_type": "markdown",
   "id": "4675c880",
   "metadata": {},
   "source": [
    "We are only concerned with the columns :- absences (number of absences), and G3 (final grade from 0 to 20).\n",
    "Let us create a couple new boolean columns based on these columns to make our lives easier. \n",
    "\n",
    "Add a boolean column called grade_A noting if a student achieved 80% or higher as a final score. Original values are on a 0 to 20 scale so we multiply by ."
   ]
  },
  {
   "cell_type": "code",
   "execution_count": 57,
   "id": "ff063fa8",
   "metadata": {},
   "outputs": [],
   "source": [
    "df['grade_A'] =np.where(df['G3']*5 >=80,1,0) #grades are out of 20 ,coverting into percentage thats y multpling by 5  "
   ]
  },
  {
   "cell_type": "markdown",
   "id": "b65a08c6",
   "metadata": {},
   "source": [
    "Make another boolean column called high_absenses witha  value a 1 or 0 if a student missed 10 \n",
    "or more classes"
   ]
  },
  {
   "cell_type": "code",
   "execution_count": 58,
   "id": "76a07492",
   "metadata": {},
   "outputs": [],
   "source": [
    "df['high_absenses'] = np.where(df['absences'] >=10 ,1 ,0)\n"
   ]
  },
  {
   "cell_type": "code",
   "execution_count": 59,
   "id": "51c18f87",
   "metadata": {},
   "outputs": [
    {
     "data": {
      "text/html": [
       "<div>\n",
       "<style scoped>\n",
       "    .dataframe tbody tr th:only-of-type {\n",
       "        vertical-align: middle;\n",
       "    }\n",
       "\n",
       "    .dataframe tbody tr th {\n",
       "        vertical-align: top;\n",
       "    }\n",
       "\n",
       "    .dataframe thead th {\n",
       "        text-align: right;\n",
       "    }\n",
       "</style>\n",
       "<table border=\"1\" class=\"dataframe\">\n",
       "  <thead>\n",
       "    <tr style=\"text-align: right;\">\n",
       "      <th></th>\n",
       "      <th>school</th>\n",
       "      <th>sex</th>\n",
       "      <th>age</th>\n",
       "      <th>address</th>\n",
       "      <th>famsize</th>\n",
       "      <th>Pstatus</th>\n",
       "      <th>Medu</th>\n",
       "      <th>Fedu</th>\n",
       "      <th>Mjob</th>\n",
       "      <th>Fjob</th>\n",
       "      <th>...</th>\n",
       "      <th>goout</th>\n",
       "      <th>Dalc</th>\n",
       "      <th>Walc</th>\n",
       "      <th>health</th>\n",
       "      <th>absences</th>\n",
       "      <th>G1</th>\n",
       "      <th>G2</th>\n",
       "      <th>G3</th>\n",
       "      <th>grade_A</th>\n",
       "      <th>high_absenses</th>\n",
       "    </tr>\n",
       "  </thead>\n",
       "  <tbody>\n",
       "    <tr>\n",
       "      <th>0</th>\n",
       "      <td>GP</td>\n",
       "      <td>F</td>\n",
       "      <td>18</td>\n",
       "      <td>U</td>\n",
       "      <td>GT3</td>\n",
       "      <td>A</td>\n",
       "      <td>4</td>\n",
       "      <td>4</td>\n",
       "      <td>at_home</td>\n",
       "      <td>teacher</td>\n",
       "      <td>...</td>\n",
       "      <td>4</td>\n",
       "      <td>1</td>\n",
       "      <td>1</td>\n",
       "      <td>3</td>\n",
       "      <td>6</td>\n",
       "      <td>5</td>\n",
       "      <td>6</td>\n",
       "      <td>6</td>\n",
       "      <td>0</td>\n",
       "      <td>0</td>\n",
       "    </tr>\n",
       "    <tr>\n",
       "      <th>1</th>\n",
       "      <td>GP</td>\n",
       "      <td>F</td>\n",
       "      <td>17</td>\n",
       "      <td>U</td>\n",
       "      <td>GT3</td>\n",
       "      <td>T</td>\n",
       "      <td>1</td>\n",
       "      <td>1</td>\n",
       "      <td>at_home</td>\n",
       "      <td>other</td>\n",
       "      <td>...</td>\n",
       "      <td>3</td>\n",
       "      <td>1</td>\n",
       "      <td>1</td>\n",
       "      <td>3</td>\n",
       "      <td>4</td>\n",
       "      <td>5</td>\n",
       "      <td>5</td>\n",
       "      <td>6</td>\n",
       "      <td>0</td>\n",
       "      <td>0</td>\n",
       "    </tr>\n",
       "    <tr>\n",
       "      <th>2</th>\n",
       "      <td>GP</td>\n",
       "      <td>F</td>\n",
       "      <td>15</td>\n",
       "      <td>U</td>\n",
       "      <td>LE3</td>\n",
       "      <td>T</td>\n",
       "      <td>1</td>\n",
       "      <td>1</td>\n",
       "      <td>at_home</td>\n",
       "      <td>other</td>\n",
       "      <td>...</td>\n",
       "      <td>2</td>\n",
       "      <td>2</td>\n",
       "      <td>3</td>\n",
       "      <td>3</td>\n",
       "      <td>10</td>\n",
       "      <td>7</td>\n",
       "      <td>8</td>\n",
       "      <td>10</td>\n",
       "      <td>0</td>\n",
       "      <td>1</td>\n",
       "    </tr>\n",
       "  </tbody>\n",
       "</table>\n",
       "<p>3 rows × 35 columns</p>\n",
       "</div>"
      ],
      "text/plain": [
       "  school sex  age address famsize Pstatus  Medu  Fedu     Mjob     Fjob  ...  \\\n",
       "0     GP   F   18       U     GT3       A     4     4  at_home  teacher  ...   \n",
       "1     GP   F   17       U     GT3       T     1     1  at_home    other  ...   \n",
       "2     GP   F   15       U     LE3       T     1     1  at_home    other  ...   \n",
       "\n",
       "  goout Dalc  Walc  health  absences G1 G2  G3 grade_A high_absenses  \n",
       "0     4    1     1       3         6  5  6   6       0             0  \n",
       "1     3    1     1       3         4  5  5   6       0             0  \n",
       "2     2    2     3       3        10  7  8  10       0             1  \n",
       "\n",
       "[3 rows x 35 columns]"
      ]
     },
     "execution_count": 59,
     "metadata": {},
     "output_type": "execute_result"
    }
   ],
   "source": [
    "df.head(3)"
   ]
  },
  {
   "cell_type": "markdown",
   "id": "5a5c96cc",
   "metadata": {},
   "source": [
    "And one more column to make building a pivot table easier"
   ]
  },
  {
   "cell_type": "code",
   "execution_count": 60,
   "id": "3e9af28d",
   "metadata": {},
   "outputs": [],
   "source": [
    "df['count']=1\n"
   ]
  },
  {
   "cell_type": "code",
   "execution_count": 61,
   "id": "c0d3581c",
   "metadata": {},
   "outputs": [
    {
     "data": {
      "text/html": [
       "<div>\n",
       "<style scoped>\n",
       "    .dataframe tbody tr th:only-of-type {\n",
       "        vertical-align: middle;\n",
       "    }\n",
       "\n",
       "    .dataframe tbody tr th {\n",
       "        vertical-align: top;\n",
       "    }\n",
       "\n",
       "    .dataframe thead th {\n",
       "        text-align: right;\n",
       "    }\n",
       "</style>\n",
       "<table border=\"1\" class=\"dataframe\">\n",
       "  <thead>\n",
       "    <tr style=\"text-align: right;\">\n",
       "      <th></th>\n",
       "      <th>grade_A</th>\n",
       "      <th>high_absenses</th>\n",
       "      <th>count</th>\n",
       "    </tr>\n",
       "  </thead>\n",
       "  <tbody>\n",
       "    <tr>\n",
       "      <th>0</th>\n",
       "      <td>0</td>\n",
       "      <td>0</td>\n",
       "      <td>1</td>\n",
       "    </tr>\n",
       "    <tr>\n",
       "      <th>1</th>\n",
       "      <td>0</td>\n",
       "      <td>0</td>\n",
       "      <td>1</td>\n",
       "    </tr>\n",
       "    <tr>\n",
       "      <th>2</th>\n",
       "      <td>0</td>\n",
       "      <td>1</td>\n",
       "      <td>1</td>\n",
       "    </tr>\n",
       "    <tr>\n",
       "      <th>3</th>\n",
       "      <td>0</td>\n",
       "      <td>0</td>\n",
       "      <td>1</td>\n",
       "    </tr>\n",
       "    <tr>\n",
       "      <th>4</th>\n",
       "      <td>0</td>\n",
       "      <td>0</td>\n",
       "      <td>1</td>\n",
       "    </tr>\n",
       "  </tbody>\n",
       "</table>\n",
       "</div>"
      ],
      "text/plain": [
       "   grade_A  high_absenses  count\n",
       "0        0              0      1\n",
       "1        0              0      1\n",
       "2        0              1      1\n",
       "3        0              0      1\n",
       "4        0              0      1"
      ]
     },
     "execution_count": 61,
     "metadata": {},
     "output_type": "execute_result"
    }
   ],
   "source": [
    "# Drop all columns which we dont want\n",
    "df=df[['grade_A','high_absenses','count']]\n",
    "df.head()"
   ]
  },
  {
   "cell_type": "code",
   "execution_count": 62,
   "id": "9f5d4fb3",
   "metadata": {},
   "outputs": [
    {
     "data": {
      "text/html": [
       "<div>\n",
       "<style scoped>\n",
       "    .dataframe tbody tr th:only-of-type {\n",
       "        vertical-align: middle;\n",
       "    }\n",
       "\n",
       "    .dataframe tbody tr th {\n",
       "        vertical-align: top;\n",
       "    }\n",
       "\n",
       "    .dataframe thead th {\n",
       "        text-align: right;\n",
       "    }\n",
       "</style>\n",
       "<table border=\"1\" class=\"dataframe\">\n",
       "  <thead>\n",
       "    <tr style=\"text-align: right;\">\n",
       "      <th>high_absenses</th>\n",
       "      <th>0</th>\n",
       "      <th>1</th>\n",
       "    </tr>\n",
       "    <tr>\n",
       "      <th>grade_A</th>\n",
       "      <th></th>\n",
       "      <th></th>\n",
       "    </tr>\n",
       "  </thead>\n",
       "  <tbody>\n",
       "    <tr>\n",
       "      <th>0</th>\n",
       "      <td>277</td>\n",
       "      <td>78</td>\n",
       "    </tr>\n",
       "    <tr>\n",
       "      <th>1</th>\n",
       "      <td>35</td>\n",
       "      <td>5</td>\n",
       "    </tr>\n",
       "  </tbody>\n",
       "</table>\n",
       "</div>"
      ],
      "text/plain": [
       "high_absenses    0   1\n",
       "grade_A               \n",
       "0              277  78\n",
       "1               35   5"
      ]
     },
     "execution_count": 62,
     "metadata": {},
     "output_type": "execute_result"
    }
   ],
   "source": [
    "final= pd.pivot_table(df,values='count',index=['grade_A'],columns=['high_absenses'],\n",
    "                     aggfunc=np.size,fill_value=0)\n",
    "final"
   ]
  },
  {
   "cell_type": "markdown",
   "id": "a7ff04d8",
   "metadata": {},
   "source": [
    "\n",
    "Calculate the probability the student will get grade A given that missing 10 or more classes.\n",
    "\n",
    "We now have all the data we need to do our calculation. Lets start by calculating each individual part in the formula. \n",
    "\n",
    "In our case: P(A) is the probability of a grade of 80% or greater.\n",
    "\n",
    "P(B) is the probability of missing 10 or more classes. P(A/B) is the probability of a 80 % + grade, given missing 10 or more classes."
   ]
  },
  {
   "cell_type": "code",
   "execution_count": 87,
   "id": "0ab58ef5",
   "metadata": {},
   "outputs": [
    {
     "name": "stdout",
     "output_type": "stream",
     "text": [
      "0.101\n",
      "0.2101\n",
      "0.013\n",
      "probability the student will get grade A given that missing 10 or more classes P(A|B) : 6.0 %\n"
     ]
    }
   ],
   "source": [
    "PA = (35+5)/(277+78+35+5);print(round(PA,3))\n",
    "PB =(78+5)/(277+78+35+5);print(round(PB,4))\n",
    "P_A_OR_B = 5/(277+78+35+5);print(round(P_A_OR_B,3))\n",
    "res =P_A_OR_B / PB\n",
    "print('probability the student will get grade A given that missing 10 or more classes P(A|B) :',round(res,2)*100,'%')"
   ]
  },
  {
   "cell_type": "markdown",
   "id": "555f6133",
   "metadata": {},
   "source": [
    "# combinatorics"
   ]
  },
  {
   "cell_type": "code",
   "execution_count": 5,
   "id": "863f794e",
   "metadata": {},
   "outputs": [
    {
     "data": {
      "text/plain": [
       "[('g', 'g'), ('g', 'b'), ('b', 'g'), ('b', 'b')]"
      ]
     },
     "execution_count": 5,
     "metadata": {},
     "output_type": "execute_result"
    }
   ],
   "source": [
    "import itertools\n",
    "from itertools import product\n",
    "box_1 =['g','b']\n",
    "perm=[]\n",
    "for p in itertools.product(box_1,repeat=2):\n",
    "    perm.append(p)\n",
    "perm"
   ]
  },
  {
   "cell_type": "code",
   "execution_count": 4,
   "id": "fdd2ee60",
   "metadata": {},
   "outputs": [
    {
     "data": {
      "text/plain": [
       "[('g', 'g', 'g'),\n",
       " ('g', 'g', 'b'),\n",
       " ('g', 'g', 'y'),\n",
       " ('g', 'b', 'g'),\n",
       " ('g', 'b', 'b'),\n",
       " ('g', 'b', 'y'),\n",
       " ('g', 'y', 'g'),\n",
       " ('g', 'y', 'b'),\n",
       " ('g', 'y', 'y'),\n",
       " ('b', 'g', 'g'),\n",
       " ('b', 'g', 'b'),\n",
       " ('b', 'g', 'y'),\n",
       " ('b', 'b', 'g'),\n",
       " ('b', 'b', 'b'),\n",
       " ('b', 'b', 'y'),\n",
       " ('b', 'y', 'g'),\n",
       " ('b', 'y', 'b'),\n",
       " ('b', 'y', 'y'),\n",
       " ('y', 'g', 'g'),\n",
       " ('y', 'g', 'b'),\n",
       " ('y', 'g', 'y'),\n",
       " ('y', 'b', 'g'),\n",
       " ('y', 'b', 'b'),\n",
       " ('y', 'b', 'y'),\n",
       " ('y', 'y', 'g'),\n",
       " ('y', 'y', 'b'),\n",
       " ('y', 'y', 'y')]"
      ]
     },
     "execution_count": 4,
     "metadata": {},
     "output_type": "execute_result"
    }
   ],
   "source": [
    "import itertools\n",
    "from itertools import product\n",
    "box_1 =['g','b','y']\n",
    "perm=[]\n",
    "for p in itertools.product(box_1,repeat=3):\n",
    "    perm.append(p)\n",
    "perm"
   ]
  },
  {
   "cell_type": "markdown",
   "id": "63dd6edc",
   "metadata": {},
   "source": [
    "# permutation without repition"
   ]
  },
  {
   "cell_type": "code",
   "execution_count": 7,
   "id": "68936f3a",
   "metadata": {},
   "outputs": [
    {
     "name": "stdout",
     "output_type": "stream",
     "text": [
      "('g', 'b')\n",
      "('b', 'g')\n"
     ]
    }
   ],
   "source": [
    "import itertools\n",
    "box_1=['g','b']\n",
    "perm = itertools.permutations(box_1)\n",
    "for i in list(perm):\n",
    "    print(i)"
   ]
  },
  {
   "cell_type": "code",
   "execution_count": 8,
   "id": "c507c6b9",
   "metadata": {},
   "outputs": [
    {
     "name": "stdout",
     "output_type": "stream",
     "text": [
      "('g', 'b', 'y')\n",
      "('g', 'y', 'b')\n",
      "('b', 'g', 'y')\n",
      "('b', 'y', 'g')\n",
      "('y', 'g', 'b')\n",
      "('y', 'b', 'g')\n"
     ]
    }
   ],
   "source": [
    "import itertools\n",
    "box_1=['g','b','y']\n",
    "perm = itertools.permutations(box_1)\n",
    "for i in list(perm):\n",
    "    print(i)"
   ]
  },
  {
   "cell_type": "code",
   "execution_count": 9,
   "id": "f3a1303a",
   "metadata": {},
   "outputs": [
    {
     "data": {
      "text/plain": [
       "[('g', 'g'),\n",
       " ('g', 'b'),\n",
       " ('g', 'y'),\n",
       " ('b', 'g'),\n",
       " ('b', 'b'),\n",
       " ('b', 'y'),\n",
       " ('y', 'g'),\n",
       " ('y', 'b'),\n",
       " ('y', 'y')]"
      ]
     },
     "execution_count": 9,
     "metadata": {},
     "output_type": "execute_result"
    }
   ],
   "source": [
    "#Variation with repetition\n",
    "box_2=['g','b','y']\n",
    "perm=[]\n",
    "for p in itertools.product(box_2,repeat=2):\n",
    "    perm.append(p)\n",
    "perm"
   ]
  },
  {
   "cell_type": "code",
   "execution_count": 10,
   "id": "7a3b25ee",
   "metadata": {},
   "outputs": [
    {
     "name": "stdout",
     "output_type": "stream",
     "text": [
      "('g', 'b')\n",
      "('g', 'y')\n",
      "('b', 'g')\n",
      "('b', 'y')\n",
      "('y', 'g')\n",
      "('y', 'b')\n"
     ]
    }
   ],
   "source": [
    "#variation without repitition\n",
    "import itertools\n",
    "box_2=['g','b','y']\n",
    "perm = itertools.permutations(box_2,2)\n",
    "for i in list(perm):\n",
    "    print(i)"
   ]
  },
  {
   "cell_type": "markdown",
   "id": "98474b48",
   "metadata": {},
   "source": [
    "# combination \n",
    "with repitiion: \n",
    "C(n,k)= (n+k-1)! /k!(n-1)!"
   ]
  },
  {
   "cell_type": "code",
   "execution_count": 13,
   "id": "8e6b417e",
   "metadata": {},
   "outputs": [
    {
     "name": "stdout",
     "output_type": "stream",
     "text": [
      "('g', 'g')\n",
      "('g', 'b')\n",
      "('b', 'b')\n"
     ]
    }
   ],
   "source": [
    "from itertools import combinations_with_replacement\n",
    "box_1=['g','b']\n",
    "combi = combinations_with_replacement(box_1,2)\n",
    "\n",
    "for i in list(combi):\n",
    "    print(i)"
   ]
  },
  {
   "cell_type": "code",
   "execution_count": 14,
   "id": "c9abff3a",
   "metadata": {},
   "outputs": [
    {
     "name": "stdout",
     "output_type": "stream",
     "text": [
      "('g', 'g')\n",
      "('g', 'b')\n",
      "('g', 'r')\n",
      "('g', 'y')\n",
      "('b', 'b')\n",
      "('b', 'r')\n",
      "('b', 'y')\n",
      "('r', 'r')\n",
      "('r', 'y')\n",
      "('y', 'y')\n"
     ]
    }
   ],
   "source": [
    "from itertools import combinations_with_replacement\n",
    "box_1=['g','b','r','y']\n",
    "combi = combinations_with_replacement(box_1,2)\n",
    "\n",
    "for i in list(combi):\n",
    "    print(i)"
   ]
  },
  {
   "cell_type": "markdown",
   "id": "86778b53",
   "metadata": {},
   "source": [
    "without repition:C(n,k)= n! /k!(n-k)!"
   ]
  },
  {
   "cell_type": "code",
   "execution_count": 16,
   "id": "4f532a70",
   "metadata": {},
   "outputs": [
    {
     "name": "stdout",
     "output_type": "stream",
     "text": [
      "('b', 'g')\n",
      "('b', 'y')\n",
      "('g', 'y')\n"
     ]
    }
   ],
   "source": [
    "from itertools import combinations\n",
    "box_1=['b','g','y']\n",
    "combi=combinations(box_1,2)\n",
    "for i in list(combi):\n",
    "    print(i)"
   ]
  },
  {
   "cell_type": "code",
   "execution_count": null,
   "id": "5df1cc13",
   "metadata": {},
   "outputs": [],
   "source": []
  }
 ],
 "metadata": {
  "kernelspec": {
   "display_name": "Python 3 (ipykernel)",
   "language": "python",
   "name": "python3"
  },
  "language_info": {
   "codemirror_mode": {
    "name": "ipython",
    "version": 3
   },
   "file_extension": ".py",
   "mimetype": "text/x-python",
   "name": "python",
   "nbconvert_exporter": "python",
   "pygments_lexer": "ipython3",
   "version": "3.8.8"
  }
 },
 "nbformat": 4,
 "nbformat_minor": 5
}
